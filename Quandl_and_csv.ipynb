{
 "cells": [
  {
   "cell_type": "code",
   "execution_count": null,
   "metadata": {
    "collapsed": false
   },
   "outputs": [],
   "source": [
    "! python --version"
   ]
  },
  {
   "cell_type": "code",
   "execution_count": null,
   "metadata": {
    "collapsed": false
   },
   "outputs": [],
   "source": [
    "! pip install --upgrade quandl"
   ]
  },
  {
   "cell_type": "markdown",
   "metadata": {},
   "source": [
    "https://www.quandl.com/data/SOCSEC/RETIRED-Social-Security-Beneficiary-Data-Retired-Workers-and-Dependants"
   ]
  },
  {
   "cell_type": "code",
   "execution_count": null,
   "metadata": {
    "collapsed": false
   },
   "outputs": [],
   "source": [
    "import quandl\n",
    "print quandl.get(\"SOCSEC/RETIRED\")"
   ]
  },
  {
   "cell_type": "code",
   "execution_count": null,
   "metadata": {
    "collapsed": false
   },
   "outputs": [],
   "source": [
    "! apt-get install curl"
   ]
  },
  {
   "cell_type": "markdown",
   "metadata": {},
   "source": [
    "http://www.edwardsaquifer.org/scientific-research-and-data/aquifer-data-and-maps/historical-data/historic-data-downloads"
   ]
  },
  {
   "cell_type": "code",
   "execution_count": null,
   "metadata": {
    "collapsed": false
   },
   "outputs": [],
   "source": [
    "! curl http://data.edwardsaquifer.org/csv_j17.php > csv_j17\n",
    "! curl http://data.edwardsaquifer.org/csv_j27.php > csv_j27\n",
    "! curl http://data.edwardsaquifer.org/csv_comal.php > csv_comal\n",
    "! curl http://data.edwardsaquifer.org/csv_san.php > csv_san_marcos\n",
    "! curl http://data.edwardsaquifer.org/csv_hondo.php > csv_hondd"
   ]
  },
  {
   "cell_type": "code",
   "execution_count": null,
   "metadata": {
    "collapsed": false
   },
   "outputs": [],
   "source": [
    "import csv\n",
    "with open('csv_j17','rb') as infile:\n",
    "    reader = csv.reader(infile)\n",
    "    j17_list = list(reader0\n",
    "len(j17_list)\n",
    "print j17_list[0]\n",
    "print j17_list[1]\n",
    "print j17_list[-1]"
   ]
  },
  {
   "cell_type": "markdown",
   "metadata": {},
   "source": [
    "http://news.ucsc.edu/2013/09/deep-earthquake.html"
   ]
  },
  {
   "cell_type": "code",
   "execution_count": null,
   "metadata": {
    "collapsed": false
   },
   "outputs": [],
   "source": [
    "for x in range(1, len(j17_list) -1):\n",
    "    if abs(float(j17_list[x][1]) - float(j17_list[x+1][1]))> 3:\n",
    "        print j17_list[x], j17_list[x+1], float(j17_list[x][1]) - float(j17_list[x+1][1])"
   ]
  },
  {
   "cell_type": "code",
   "execution_count": null,
   "metadata": {
    "collapsed": false
   },
   "outputs": [],
   "source": [
    "import csv\n",
    "with open('csv_j27','rb') as infile:\n",
    "    reader = csv.reader(infile)\n",
    "    j27_list = list(reader)\n",
    "len(j27_list)\n",
    "print j27_list[0]\n",
    "print j27_list[1]\n",
    "print j27_list[-1]"
   ]
  },
  {
   "cell_type": "code",
   "execution_count": null,
   "metadata": {
    "collapsed": false
   },
   "outputs": [],
   "source": [
    "for x in range(1, len(j27_list) -1):\n",
    "    if abs(float(j27_list[x][1]) - float(j27_list[x+1][1]))> 2:\n",
    "        print j27_list[x], j27_list[x+1], float(j27_list[x][1]) - float(j27_list[x+1][1])"
   ]
  },
  {
   "cell_type": "code",
   "execution_count": null,
   "metadata": {
    "collapsed": false
   },
   "outputs": [],
   "source": [
    "for x in j17_list:\n",
    "    print x"
   ]
  }
 ],
 "metadata": {
  "kernelspec": {
   "display_name": "Python 2",
   "language": "python",
   "name": "python2"
  },
  "language_info": {
   "codemirror_mode": {
    "name": "ipython",
    "version": 2
   },
   "file_extension": ".py",
   "mimetype": "text/x-python",
   "name": "python",
   "nbconvert_exporter": "python",
   "pygments_lexer": "ipython2",
   "version": "2.7.13"
  }
 },
 "nbformat": 4,
 "nbformat_minor": 2
}
