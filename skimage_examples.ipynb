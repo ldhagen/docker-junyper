{
 "cells": [
  {
   "cell_type": "code",
   "execution_count": null,
   "metadata": {
    "collapsed": false
   },
   "outputs": [],
   "source": [
    "%matplotlib inline\n",
    "import matplotlib.pyplot as plt\n",
    "\n",
    "plt.rcParams['image.cmap'] = 'gray'\n",
    "plt.rcParams['image.interpolation'] = 'none'"
   ]
  },
  {
   "cell_type": "code",
   "execution_count": null,
   "metadata": {
    "collapsed": false
   },
   "outputs": [],
   "source": [
    "# from https://tonysyu.github.io/ipython-jupyter-widgets-an-image-convolution-demo.html#.VqepG3UrJUQ\n",
    "from skimage import data, filter\n",
    "\n",
    "image = data.camera()\n",
    "# Ignore the Gaussian filter, for now.\n",
    "# (This is explained at the end of the article.)\n",
    "smooth_image = filter.gaussian_filter(image, 5)\n",
    "plt.imshow(smooth_image);"
   ]
  },
  {
   "cell_type": "code",
   "execution_count": null,
   "metadata": {
    "collapsed": false
   },
   "outputs": [],
   "source": [
    "import numpy as np\n",
    "\n",
    "horizontal_edge_kernel = np.array([[ 1,  2,  1],\n",
    "                                   [ 0,  0,  0],\n",
    "                                   [-1, -2, -1]])\n",
    "# Use non-gray colormap to display negative values as red and positive\n",
    "# values as blue.\n",
    "plt.imshow(horizontal_edge_kernel, cmap=plt.cm.RdBu);"
   ]
  },
  {
   "cell_type": "code",
   "execution_count": null,
   "metadata": {
    "collapsed": false
   },
   "outputs": [],
   "source": [
    "from scipy.ndimage import convolve\n",
    "\n",
    "horizontal_edge_response = convolve(smooth_image, horizontal_edge_kernel)\n",
    "plt.imshow(horizontal_edge_response, cmap=plt.cm.RdBu);"
   ]
  },
  {
   "cell_type": "code",
   "execution_count": null,
   "metadata": {
    "collapsed": true
   },
   "outputs": [],
   "source": [
    "def iter_pixels(image):\n",
    "    \"\"\" Yield pixel position (row, column) and pixel intensity. \"\"\"\n",
    "    height, width = image.shape[:2]\n",
    "    for i in range(height):\n",
    "        for j in range(width):\n",
    "            yield (i, j), image[i, j]"
   ]
  },
  {
   "cell_type": "code",
   "execution_count": null,
   "metadata": {
    "collapsed": true
   },
   "outputs": [],
   "source": [
    "def imshow_pair(image_pair, titles=('', ''), figsize=(10, 5), **kwargs):\n",
    "    fig, axes = plt.subplots(ncols=2, figsize=figsize)\n",
    "    for ax, img, label in zip(axes.ravel(), image_pair, titles):\n",
    "        ax.imshow(img, **kwargs)\n",
    "        ax.set_title(label)"
   ]
  },
  {
   "cell_type": "code",
   "execution_count": null,
   "metadata": {
    "collapsed": true
   },
   "outputs": [],
   "source": [
    "def padding_for_kernel(kernel):\n",
    "    \"\"\" Return the amount of padding needed for each side of an image.\n",
    "\n",
    "    For example, if the returned result is [1, 2], then this means an\n",
    "    image should be padded with 1 extra row on top and bottom, and 2\n",
    "    extra columns on the left and right.\n",
    "    \"\"\"\n",
    "    # Slice to ignore RGB channels if they exist.\n",
    "    image_shape = kernel.shape[:2]\n",
    "    # We only handle kernels with odd dimensions so make sure that's true.\n",
    "    # (The \"center\" pixel of an even number of pixels is arbitrary.)\n",
    "    assert all((size % 2) == 1 for size in image_shape)\n",
    "    return [(size - 1) // 2 for size in image_shape]"
   ]
  },
  {
   "cell_type": "code",
   "execution_count": null,
   "metadata": {
    "collapsed": true
   },
   "outputs": [],
   "source": [
    "def add_padding(image, kernel):\n",
    "    h_pad, w_pad = padding_for_kernel(kernel)\n",
    "    return np.pad(image, ((h_pad, h_pad), (w_pad, w_pad)),\n",
    "                  mode='constant', constant_values=0)"
   ]
  },
  {
   "cell_type": "code",
   "execution_count": null,
   "metadata": {
    "collapsed": true
   },
   "outputs": [],
   "source": [
    "def remove_padding(image, kernel):\n",
    "    inner_region = []  # A 2D slice for grabbing the inner image region\n",
    "    for pad in padding_for_kernel(kernel):\n",
    "        slice_i = slice(None) if pad == 0 else slice(pad, -pad)\n",
    "        inner_region.append(slice_i)\n",
    "    return image[inner_region]"
   ]
  },
  {
   "cell_type": "code",
   "execution_count": null,
   "metadata": {
    "collapsed": false
   },
   "outputs": [],
   "source": [
    "image = np.empty((10, 20))\n",
    "print(image.shape)"
   ]
  },
  {
   "cell_type": "code",
   "execution_count": null,
   "metadata": {
    "collapsed": false
   },
   "outputs": [],
   "source": [
    "kernel = np.ones((3, 5))\n",
    "print(kernel.shape)"
   ]
  },
  {
   "cell_type": "code",
   "execution_count": null,
   "metadata": {
    "collapsed": false
   },
   "outputs": [],
   "source": [
    "padded = add_padding(image, kernel)\n",
    "print(padded.shape)"
   ]
  },
  {
   "cell_type": "code",
   "execution_count": null,
   "metadata": {
    "collapsed": false
   },
   "outputs": [],
   "source": [
    "print(remove_padding(padded, kernel).shape)"
   ]
  },
  {
   "cell_type": "code",
   "execution_count": null,
   "metadata": {
    "collapsed": true
   },
   "outputs": [],
   "source": [
    "def window_slice(center, kernel):\n",
    "    r, c = center\n",
    "    r_pad, c_pad = padding_for_kernel(kernel)\n",
    "    # Slicing is (inclusive, exclusive) so add 1 to the stop value\n",
    "    return [slice(r-r_pad, r+r_pad+1), slice(c-c_pad, c+c_pad+1)]"
   ]
  },
  {
   "cell_type": "code",
   "execution_count": null,
   "metadata": {
    "collapsed": false
   },
   "outputs": [],
   "source": [
    "image = np.arange(4) + 10 * np.arange(4).reshape(4, 1)\n",
    "print(image)"
   ]
  },
  {
   "cell_type": "code",
   "execution_count": null,
   "metadata": {
    "collapsed": false
   },
   "outputs": [],
   "source": [
    "dummy_kernel = np.empty((3, 3))  # We only care about the shape\n",
    "center = (1, 1)\n",
    "print(image[window_slice(center, dummy_kernel)])"
   ]
  },
  {
   "cell_type": "code",
   "execution_count": null,
   "metadata": {
    "collapsed": false
   },
   "outputs": [],
   "source": [
    "print(image[window_slice((1, 2), dummy_kernel)])"
   ]
  },
  {
   "cell_type": "code",
   "execution_count": null,
   "metadata": {
    "collapsed": false
   },
   "outputs": [],
   "source": [
    "print(image[window_slice((2, 1), dummy_kernel)])"
   ]
  },
  {
   "cell_type": "code",
   "execution_count": null,
   "metadata": {
    "collapsed": false
   },
   "outputs": [],
   "source": [
    "dummy_kernel = np.empty((3, 1))\n",
    "print(image[window_slice((2, 1), dummy_kernel)])"
   ]
  },
  {
   "cell_type": "code",
   "execution_count": null,
   "metadata": {
    "collapsed": true
   },
   "outputs": [],
   "source": [
    "def apply_kernel(center, kernel, original_image):\n",
    "    image_patch = original_image[window_slice(center, kernel)]\n",
    "    # An element-wise multiplication followed by the sum\n",
    "    return np.sum(kernel * image_patch)"
   ]
  },
  {
   "cell_type": "code",
   "execution_count": null,
   "metadata": {
    "collapsed": true
   },
   "outputs": [],
   "source": [
    "def iter_kernel_labels(image, kernel):\n",
    "    \"\"\" Yield position and kernel labels for each pixel in the image.\n",
    "\n",
    "    The kernel label-image has a 2 at the center and 1 for every other\n",
    "    pixel \"under\" the kernel. Pixels not under the kernel are labeled as 0.\n",
    "\n",
    "    Note that the mask is the same size as the input image.\n",
    "    \"\"\"\n",
    "    original_image = image\n",
    "    image = add_padding(original_image, kernel)\n",
    "    i_pad, j_pad = padding_for_kernel(kernel)\n",
    "\n",
    "    for (i, j), pixel in iter_pixels(original_image):\n",
    "        # Shift the center of the kernel to ignore padded border.\n",
    "        i += i_pad\n",
    "        j += j_pad\n",
    "        mask = np.zeros(image.shape, dtype=int)  # Background = 0\n",
    "        mask[window_slice((i, j), kernel)] = 1   # Kernel = 1\n",
    "        mask[i, j] = 2                           # Kernel-center = 2\n",
    "        yield (i, j), mask"
   ]
  },
  {
   "cell_type": "code",
   "execution_count": null,
   "metadata": {
    "collapsed": true
   },
   "outputs": [],
   "source": [
    "from skimage import color\n",
    "\n",
    "def visualize_kernel(kernel_labels, image):\n",
    "    \"\"\" Return a composite image, where 1's are yellow and 2's are red.\n",
    "\n",
    "    See `iter_kernel_labels` for info on the meaning of 1 and 2.\n",
    "    \"\"\"\n",
    "    return color.label2rgb(kernel_labels, image, bg_label=0,\n",
    "                           colors=('yellow', 'red'))"
   ]
  },
  {
   "cell_type": "code",
   "execution_count": null,
   "metadata": {
    "collapsed": false
   },
   "outputs": [],
   "source": [
    "from IPython.html import widgets\n",
    "\n",
    "def printer(i):\n",
    "    print(\"i = {}\".format(i))\n",
    "\n",
    "# This should be executed in an IPython notebook!\n",
    "widgets.interact(printer, i=(0, 10));"
   ]
  },
  {
   "cell_type": "code",
   "execution_count": null,
   "metadata": {
    "collapsed": true
   },
   "outputs": [],
   "source": [
    "def make_convolution_step_function(image, kernel, **kwargs):\n",
    "    # Initialize generator since we're only ever going to iterate over\n",
    "    # a pixel once. The cached result is used, if we step back.\n",
    "    gen_kernel_labels = iter_kernel_labels(image, kernel)\n",
    "\n",
    "    image_cache = []\n",
    "    image = add_padding(image, kernel)\n",
    "\n",
    "    def convolution_step(i_step):\n",
    "        \"\"\" Plot original image and kernel-overlay next to filtered image.\n",
    "\n",
    "        For a given step, check if it's in the image cache. If not\n",
    "        calculate all necessary images, then plot the requested step.\n",
    "        \"\"\"\n",
    "\n",
    "        # Create all images up to the current step, unless they're already\n",
    "        # cached:\n",
    "        while i_step >= len(image_cache):\n",
    "\n",
    "            # For the first step (`i_step == 0`), the original image is the\n",
    "            # filtered image; after that we look in the cache, which stores\n",
    "            # (`kernel_overlay`, `filtered`).\n",
    "            filtered_prev = image if i_step == 0 else image_cache[-1][1]\n",
    "            # We don't want to overwrite the previously filtered image:\n",
    "            filtered = filtered_prev.copy()\n",
    "\n",
    "            # Get the labels used to visualize the kernel\n",
    "            center, kernel_labels = gen_kernel_labels.next()\n",
    "            # Modify the pixel value at the kernel center\n",
    "            filtered[center] = apply_kernel(center, kernel, image)\n",
    "            # Take the original image and overlay our kernel visualization\n",
    "            kernel_overlay = visualize_kernel(kernel_labels, image)\n",
    "            # Save images for reuse.\n",
    "            image_cache.append((kernel_overlay, filtered))\n",
    "\n",
    "        # Remove padding we added to deal with boundary conditions\n",
    "        # (Loop since each step has 2 images)\n",
    "        image_pair = [remove_padding(each, kernel)\n",
    "                      for each in image_cache[i_step]]\n",
    "        imshow_pair(image_pair, **kwargs)\n",
    "        plt.show()\n",
    "\n",
    "    return convolution_step  # <-- this is a function"
   ]
  },
  {
   "cell_type": "code",
   "execution_count": null,
   "metadata": {
    "collapsed": true
   },
   "outputs": [],
   "source": []
  },
  {
   "cell_type": "code",
   "execution_count": null,
   "metadata": {
    "collapsed": true
   },
   "outputs": [],
   "source": []
  },
  {
   "cell_type": "code",
   "execution_count": null,
   "metadata": {
    "collapsed": true
   },
   "outputs": [],
   "source": []
  },
  {
   "cell_type": "code",
   "execution_count": null,
   "metadata": {
    "collapsed": false
   },
   "outputs": [],
   "source": [
    "# from https://peerj.com/articles/453/\n",
    "\n",
    "\n",
    "from skimage import data, io, filter\n",
    "\n",
    "image = data.coins()  # or any NumPy array!\n",
    "edges = filter.sobel(image)\n",
    "io.imshow(edges)"
   ]
  },
  {
   "cell_type": "code",
   "execution_count": null,
   "metadata": {
    "collapsed": true
   },
   "outputs": [],
   "source": []
  }
 ],
 "metadata": {
  "kernelspec": {
   "display_name": "Python 2",
   "language": "python",
   "name": "python2"
  },
  "language_info": {
   "codemirror_mode": {
    "name": "ipython",
    "version": 2
   },
   "file_extension": ".py",
   "mimetype": "text/x-python",
   "name": "python",
   "nbconvert_exporter": "python",
   "pygments_lexer": "ipython2",
   "version": "2.7.11"
  }
 },
 "nbformat": 4,
 "nbformat_minor": 0
}
