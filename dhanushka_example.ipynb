{
 "cells": [
  {
   "cell_type": "markdown",
   "metadata": {},
   "source": [
    "From http://stackoverflow.com/questions/33193841/image-reconstruction-based-on-zernike-moments-using-mahotas-and-opencv\n"
   ]
  },
  {
   "cell_type": "code",
   "execution_count": null,
   "metadata": {
    "collapsed": true
   },
   "outputs": [],
   "source": [
    "import dhanushka"
   ]
  },
  {
   "cell_type": "code",
   "execution_count": null,
   "metadata": {
    "collapsed": false
   },
   "outputs": [],
   "source": [
    "%matplotlib inline\n",
    "from matplotlib import pyplot as plt\n",
    "from matplotlib import cm\n",
    "import cv2\n",
    "img = cv2.imread('F.png')\n",
    "img_rgb = cv2.cvtColor(img, cv2.COLOR_BGR2RGB)\n",
    "imgcrop = img_rgb[40:210,70:250]\n",
    "plt.imshow(imgcrop)\n",
    "plt.show()"
   ]
  },
  {
   "cell_type": "code",
   "execution_count": null,
   "metadata": {
    "collapsed": false
   },
   "outputs": [],
   "source": [
    "img_gray = cv2.cvtColor(imgcrop, cv2.COLOR_RGB2GRAY)\n",
    "plt.imshow(img_gray, cmap = cm.gray)\n",
    "plt.show()"
   ]
  },
  {
   "cell_type": "code",
   "execution_count": null,
   "metadata": {
    "collapsed": false
   },
   "outputs": [],
   "source": [
    "D = 12\n",
    "\n",
    "rows, cols = img_gray.shape\n",
    "radius = cols//2 if rows > cols else rows//2\n",
    "\n",
    "reconst = dhanushka.zernike_reconstruct(img_gray, radius, D, (rows/2., cols/2.))\n",
    "\n",
    "reconst = reconst.reshape(img_gray.shape)\n",
    "\n",
    "plt.figure(1)\n",
    "plt.imshow(img_gray, cmap=cm.jet, origin = 'upper')\n",
    "plt.figure(2)    \n",
    "plt.imshow(reconst.real, cmap=cm.jet, origin = 'upper')\n",
    "plt.show()"
   ]
  },
  {
   "cell_type": "code",
   "execution_count": null,
   "metadata": {
    "collapsed": true
   },
   "outputs": [],
   "source": []
  }
 ],
 "metadata": {
  "kernelspec": {
   "display_name": "Python 2",
   "language": "python",
   "name": "python2"
  },
  "language_info": {
   "codemirror_mode": {
    "name": "ipython",
    "version": 2
   },
   "file_extension": ".py",
   "mimetype": "text/x-python",
   "name": "python",
   "nbconvert_exporter": "python",
   "pygments_lexer": "ipython2",
   "version": "2.7.11"
  }
 },
 "nbformat": 4,
 "nbformat_minor": 0
}
