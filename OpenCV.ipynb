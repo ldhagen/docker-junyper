{
 "cells": [
  {
   "cell_type": "markdown",
   "metadata": {},
   "source": [
    "From http://giusedroid.blogspot.com/2015/04/blog-post.htmld\n",
    "Quickie: Mix up OpenCV and Jupyter (iPython Notebook)\n",
    "\n",
    "The purpose of this post is to show how to plot images acquired with opencv rather than matplotlib. Just in case. \n",
    "First of all, set matplotlib inline and import the necessary stuff."
   ]
  },
  {
   "cell_type": "code",
   "execution_count": null,
   "metadata": {},
   "outputs": [],
   "source": [
    "! wget --no-check-certificate http://www.hobieco.com/linked_images/H18-Magnum.jpg"
   ]
  },
  {
   "cell_type": "code",
   "execution_count": null,
   "metadata": {},
   "outputs": [],
   "source": [
    "%matplotlib inline\n",
    "import cv2\n",
    "from matplotlib import pyplot as plt\n",
    "import numpy as np\n",
    "import time as t\n",
    "print \"OpenCV Version : %s \" % cv2.__version__"
   ]
  },
  {
   "cell_type": "code",
   "execution_count": null,
   "metadata": {},
   "outputs": [],
   "source": [
    "image = cv2.imread(\"H18-Magnum.jpg\")\n",
    "fig, ax = plt.subplots()\n",
    "fig.set_size_inches(3, 3)\n",
    "ax.axis([35, 150, 250, 100])\n",
    "image_rgb = cv2.cvtColor(image, cv2.COLOR_BGR2RGB)\n",
    "plt.imshow(image_rgb)\n",
    "plt.show()"
   ]
  },
  {
   "cell_type": "markdown",
   "metadata": {},
   "source": [
    "The image has been correctly loaded by openCV as a numpy array, but the color of each pixel has been sorted as BGR. Matplotlib's plot expects an RGB image so, for a correct display of the image, it is necessary to swap those channels. This operation can be done either by using openCV conversion functions cv2.cvtColor() or by working directly with the numpy array.\n",
    "cvtColor\n",
    "cvtColor is the openCV function which changes the color space of an image. It takes as input an image and a numerical flag which represents the conversion function. Let's list some of that."
   ]
  },
  {
   "cell_type": "code",
   "execution_count": null,
   "metadata": {},
   "outputs": [],
   "source": [
    "from matplotlib.pyplot import imshow\n",
    "import numpy as np\n",
    "from PIL import Image\n",
    "\n",
    "%matplotlib inline\n",
    "pil_im = Image.open('H18-Magnum.jpg', 'r')\n",
    "imshow(np.asarray(pil_im))"
   ]
  },
  {
   "cell_type": "code",
   "execution_count": null,
   "metadata": {},
   "outputs": [],
   "source": [
    "from IPython.display import Image \n",
    "Image(filename='H18-Magnum.jpg')"
   ]
  },
  {
   "cell_type": "code",
   "execution_count": null,
   "metadata": {},
   "outputs": [],
   "source": [
    "BGRflags = [flag for flag in dir(cv2) if flag.startswith('COLOR_BGR') ]\n",
    "print BGRflags"
   ]
  },
  {
   "cell_type": "markdown",
   "metadata": {},
   "source": [
    "In this case it's necessary to change the image space from BGR (Blue, Green, Red) to RGB, so the correct flag is cv2.COLOR_BGR2RGB"
   ]
  },
  {
   "cell_type": "code",
   "execution_count": null,
   "metadata": {},
   "outputs": [],
   "source": [
    "t0 = t.time()\n",
    "cv_rgb = cv2.cvtColor(image, cv2.COLOR_BGR2RGB)\n",
    "t1 = t.time()\n",
    "dt_cv = t1-t0\n",
    "print \"Conversion took %0.5f seconds\" % dt_cv"
   ]
  },
  {
   "cell_type": "code",
   "execution_count": null,
   "metadata": {},
   "outputs": [],
   "source": [
    "plt.imshow(cv_rgb)\n",
    "plt.show()"
   ]
  },
  {
   "cell_type": "markdown",
   "metadata": {},
   "source": [
    "below from from http://matplotlib.org/users/text_intro.html"
   ]
  },
  {
   "cell_type": "code",
   "execution_count": null,
   "metadata": {},
   "outputs": [],
   "source": [
    "# -*- coding: utf-8 -*-\n",
    "import matplotlib.pyplot as plt\n",
    "\n",
    "fig = plt.figure()\n",
    "fig.suptitle('bold figure suptitle', fontsize=14, fontweight='bold')\n",
    "\n",
    "ax = fig.add_subplot(111)\n",
    "fig.subplots_adjust(top=0.85)\n",
    "ax.set_title('axes title')\n",
    "\n",
    "ax.set_xlabel('xlabel')\n",
    "ax.set_ylabel('ylabel')\n",
    "\n",
    "ax.text(3, 8, 'boxed italics text in data coords', style='italic',\n",
    "        bbox={'facecolor':'red', 'alpha':0.5, 'pad':10})\n",
    "\n",
    "ax.text(2, 6, r'an equation: $E=mc^2$', fontsize=15)\n",
    "\n",
    "ax.text(3, 2, u'unicode: Institut f\\374r Festk\\366rperphysik')\n",
    "\n",
    "ax.text(0.95, 0.01, 'colored text in axes coords',\n",
    "        verticalalignment='bottom', horizontalalignment='right',\n",
    "        transform=ax.transAxes,\n",
    "        color='green', fontsize=15)\n",
    "\n",
    "\n",
    "ax.plot([2], [1], 'o')\n",
    "ax.annotate('annotate', xy=(2, 1), xytext=(3, 4),\n",
    "            arrowprops=dict(facecolor='black', shrink=0.05))\n",
    "\n",
    "ax.axis([0, 10, 0, 10])\n",
    "\n",
    "plt.show()"
   ]
  },
  {
   "cell_type": "markdown",
   "metadata": {},
   "source": [
    "# Added Friday afternoon 17 Mar 17"
   ]
  },
  {
   "cell_type": "code",
   "execution_count": null,
   "metadata": {},
   "outputs": [],
   "source": [
    "%matplotlib inline\n",
    "import cv2\n",
    "from matplotlib import pyplot as plt\n",
    "import matplotlib.cm as cm\n",
    "image = cv2.imread(\"Screenshot_2016-02-23-12-47-43.png\")\n",
    "fig, ax = plt.subplots()\n",
    "fig.set_size_inches(4, 4)\n",
    "#ax.axis([1280, 1400, 400, 200])\n",
    "image_rgb = cv2.cvtColor(image, cv2.COLOR_BGR2RGB)\n",
    "plt.imshow(image_rgb)\n",
    "plt.show()"
   ]
  },
  {
   "cell_type": "code",
   "execution_count": null,
   "metadata": {},
   "outputs": [],
   "source": [
    "image_gray = cv2.cvtColor(image_rgb, cv2.COLOR_RGB2GRAY)\n",
    "fig, ax = plt.subplots(ncols=1, nrows=1, figsize=(2, 2))\n",
    "up_right_gray_target = image_gray[210:310, 1280:1400]\n",
    "plt.imshow(up_right_gray_target, cmap = cm.gray)\n",
    "plt.show()"
   ]
  },
  {
   "cell_type": "code",
   "execution_count": null,
   "metadata": {},
   "outputs": [],
   "source": [
    "image_gray = cv2.cvtColor(image_rgb, cv2.COLOR_RGB2GRAY)\n",
    "fig, ax = plt.subplots(ncols=1, nrows=1, figsize=(2, 2))\n",
    "low_left_gray_target = image_gray[2412:2512,65:165]\n",
    "plt.imshow(low_left_gray_target, cmap = cm.gray)\n",
    "plt.show()"
   ]
  },
  {
   "cell_type": "code",
   "execution_count": null,
   "metadata": {},
   "outputs": [],
   "source": [
    "image_gray = cv2.imread(\"Screenshot_2016-02-23-12-47-43.png\",0)\n",
    "#targets = [up_right_gray_target,low_left_gray_target]\n",
    "targets = [up_right_gray_target]\n",
    "for tgt in targets:\n",
    "    w, h = tgt.shape[::-1]\n",
    "    res = cv2.matchTemplate(image_gray,tgt,cv2.TM_CCOEFF)\n",
    "    res1= cv2.matchTemplate(image_gray,tgt,cv2.TM_CCOEFF_NORMED)\n",
    "    min_val, max_val, min_loc, max_loc = cv2.minMaxLoc(res)\n",
    "    top_left = max_loc\n",
    "    bottom_right = (top_left[0] + w, top_left[1] + h)\n",
    "    cv2.rectangle(image_gray,top_left, bottom_right, 255, 2)\n",
    "#fig, ax = plt.subplots(ncols=1, nrows=1, figsize=(10, 14))\n",
    "#plt.imshow(image_gray, cmap = cm.gray)\n",
    "#plt.show()"
   ]
  },
  {
   "cell_type": "code",
   "execution_count": null,
   "metadata": {},
   "outputs": [],
   "source": [
    "plt.figure(figsize=(16,9))\n",
    "plt.subplot(1,2,1)\n",
    "plt.imshow(res,cmap=cm.gray)\n",
    "plt.subplot(1,2,2)\n",
    "plt.imshow(res1,cmap=cm.gray)\n",
    "plt.show()"
   ]
  },
  {
   "cell_type": "markdown",
   "metadata": {},
   "source": [
    "# Added Thursday afternoon 23 Mar 17 "
   ]
  },
  {
   "cell_type": "code",
   "execution_count": null,
   "metadata": {},
   "outputs": [],
   "source": [
    "%matplotlib inline\n",
    "import cv2\n",
    "from matplotlib import pyplot as plt\n",
    "import matplotlib.cm as cm\n",
    "image_gray = cv2.imread(\"Screenshot_2016-02-23-12-47-43.png\",0)\n",
    "up_right_gray_target = image_gray[210:310, 1280:1400]\n",
    "#targets = [up_right_gray_target,low_left_gray_target]\n",
    "targets = [up_right_gray_target]\n",
    "for tgt in targets:\n",
    "    w, h = tgt.shape[::-1]\n",
    "    res_TM_CCOEFF = cv2.matchTemplate(image_gray,tgt,cv2.TM_CCOEFF)\n",
    "    res_TM_CCOEFF_NORMED = cv2.matchTemplate(image_gray,tgt,cv2.TM_CCOEFF_NORMED)\n",
    "    res_TM_SQDIFF = cv2.matchTemplate(image_gray,tgt,cv2.TM_SQDIFF)\n",
    "    res_TM_SQDIFF_NORMED = cv2.matchTemplate(image_gray,tgt,cv2.TM_SQDIFF_NORMED)\n",
    "    res_TM_CORR = cv2.matchTemplate(image_gray,tgt,cv2.TM_CCORR)\n",
    "    res_TM_CORR_NORMED = cv2.matchTemplate(image_gray,tgt,cv2.TM_CCORR_NORMED)\n",
    "    min_val, max_val, min_loc, max_loc = cv2.minMaxLoc(res_TM_SQDIFF_NORMED)\n",
    "#    top_left = max_loc\n",
    "    top_left = min_loc\n",
    "    bottom_right = (top_left[0] + w, top_left[1] + h)\n",
    "    cv2.rectangle(image_gray,top_left, bottom_right, 255, 2)\n",
    "fig, ax = plt.subplots(ncols=1, nrows=1, figsize=(10, 14))\n",
    "plt.imshow(image_gray, cmap = cm.gray)\n",
    "plt.show()"
   ]
  },
  {
   "cell_type": "code",
   "execution_count": null,
   "metadata": {},
   "outputs": [],
   "source": [
    "fig = plt.figure(figsize=(12,29))\n",
    "ax1 = fig.add_subplot(321)\n",
    "plt.title('CCOEFF')\n",
    "plt.imshow(res_TM_CCOEFF,cmap=cm.gray)\n",
    "plt.subplot(3,2,2)\n",
    "plt.title('CCOEFF_NORMED')\n",
    "plt.imshow(res_TM_CCOEFF_NORMED,cmap=cm.gray)\n",
    "plt.subplot(3,2,3)\n",
    "plt.title('TM_SQDIFF')\n",
    "plt.imshow(res_TM_SQDIFF,cmap=cm.gray)\n",
    "plt.subplot(3,2,4)\n",
    "plt.title('TM_SQDIFF_NORMED')\n",
    "plt.imshow(res_TM_SQDIFF_NORMED,cmap=cm.gray)\n",
    "plt.subplot(3,2,5)\n",
    "plt.title('TM_CORR')\n",
    "plt.imshow(res_TM_CORR,cmap=cm.gray)\n",
    "plt.subplot(3,2,6)\n",
    "plt.title('TM_CORR_NORMED')\n",
    "plt.imshow(res_TM_CORR_NORMED,cmap=cm.gray)\n",
    "plt.show()"
   ]
  },
  {
   "cell_type": "markdown",
   "metadata": {
    "collapsed": true
   },
   "source": [
    "# Added Friday afternoon 15 Apr 17"
   ]
  },
  {
   "cell_type": "code",
   "execution_count": null,
   "metadata": {},
   "outputs": [],
   "source": [
    "! pip install --upgrade pandas\n",
    "%matplotlib inline\n",
    "import matplotlib as mpl\n",
    "from matplotlib import pyplot as plt\n",
    "from matplotlib.dates import date2num, MonthLocator, WeekdayLocator, DateFormatter\n",
    "import datetime as dt\n",
    "import numpy as np\n",
    "import pandas as pd"
   ]
  },
  {
   "cell_type": "code",
   "execution_count": null,
   "metadata": {},
   "outputs": [],
   "source": [
    "count = (dt.datetime.today() - dt.datetime(2016,11,15)).days\n",
    "count"
   ]
  },
  {
   "cell_type": "code",
   "execution_count": null,
   "metadata": {},
   "outputs": [],
   "source": [
    "dates = [dt.datetime(2016,11,15) + dt.timedelta(days=i) for i in xrange(count)]\n",
    "type(dates)"
   ]
  },
  {
   "cell_type": "code",
   "execution_count": null,
   "metadata": {
    "collapsed": true
   },
   "outputs": [],
   "source": [
    "type1 = np.random.randint(0,5,count)\n",
    "type2 = np.random.randint(0,5,count)\n",
    "type3 = np.random.randint(0,7,count)"
   ]
  },
  {
   "cell_type": "code",
   "execution_count": null,
   "metadata": {},
   "outputs": [],
   "source": [
    "#plt.figure(figsize=(20,7))\n",
    "#plt.title('Testing', fontsize=16)\n",
    "#plt.xlabel('Date', fontsize=16)\n",
    "#plt.ylabel('Frequency', fontsize=16)\n",
    "fig, ax = plt.subplots(1,1)\n",
    "p1 = plt.bar(date2num(dates), type1, width=1, label='Type 1')\n",
    "p2 = plt.bar(date2num(dates), type2, bottom = type1, width=1, label='Type 2')\n",
    "p3 = plt.bar(date2num(dates), type3, bottom = type1 + type2, width=1, label='Type 3')\n",
    "ax.xaxis_date()\n",
    "ax.xaxis.set_major_locator(MonthLocator())\n",
    "ax.xaxis.set_minor_locator(WeekdayLocator())\n",
    "ax.xaxis.set_major_formatter(DateFormatter('%b %y'))\n",
    "ax.set_title('Testing', fontsize=16)\n",
    "ax.set_xlabel('Date')\n",
    "ax.set_ylabel('Frequency')\n",
    "ax.set_xlim(date2num(dates[0]),date2num(dates[-1]))\n",
    "fig.set_size_inches(17,6)\n",
    "fig.autofmt_xdate()\n",
    "fig.tight_layout()\n",
    "plt.legend((p1[0],p2[0],p3[0]), ('First', 'Second','Third'))\n",
    "plt.show()"
   ]
  },
  {
   "cell_type": "code",
   "execution_count": null,
   "metadata": {
    "collapsed": true
   },
   "outputs": [],
   "source": []
  }
 ],
 "metadata": {
  "kernelspec": {
   "display_name": "Python 2",
   "language": "python",
   "name": "python2"
  },
  "language_info": {
   "codemirror_mode": {
    "name": "ipython",
    "version": 2
   },
   "file_extension": ".py",
   "mimetype": "text/x-python",
   "name": "python",
   "nbconvert_exporter": "python",
   "pygments_lexer": "ipython2",
   "version": "2.7.13"
  }
 },
 "nbformat": 4,
 "nbformat_minor": 1
}
