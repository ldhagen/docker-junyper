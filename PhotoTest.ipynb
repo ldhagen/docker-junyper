{
 "cells": [
  {
   "cell_type": "code",
   "execution_count": null,
   "metadata": {
    "collapsed": false
   },
   "outputs": [],
   "source": [
    "! wget http://www.hobieco.com/linked_images/H18-Magnum.jpg"
   ]
  },
  {
   "cell_type": "code",
   "execution_count": null,
   "metadata": {
    "collapsed": false
   },
   "outputs": [],
   "source": [
    "from IPython.display import Image \n",
    "Image(filename='H18-Magnum.jpg')"
   ]
  },
  {
   "cell_type": "code",
   "execution_count": null,
   "metadata": {
    "collapsed": false
   },
   "outputs": [],
   "source": [
    "from matplotlib.pyplot import imshow\n",
    "import numpy as np\n",
    "from PIL import Image\n",
    "\n",
    "%matplotlib inline\n",
    "pil_im = Image.open('H18-Magnum.jpg', 'r')\n",
    "imshow(np.asarray(pil_im))"
   ]
  },
  {
   "cell_type": "code",
   "execution_count": null,
   "metadata": {
    "collapsed": true
   },
   "outputs": [],
   "source": [
    "%matplotlib inline\n",
    "import matplotlib.pyplot as plt\n",
    "import numpy as np"
   ]
  },
  {
   "cell_type": "code",
   "execution_count": null,
   "metadata": {
    "collapsed": true
   },
   "outputs": [],
   "source": [
    "from ipywidgets import interactive\n",
    "from IPython.display import Audio, display\n",
    "import numpy as np"
   ]
  },
  {
   "cell_type": "code",
   "execution_count": null,
   "metadata": {
    "collapsed": true
   },
   "outputs": [],
   "source": [
    "def beat_freq(f1=220.0, f2=224.0):\n",
    "    max_time = 3\n",
    "    rate = 8000\n",
    "    times = np.linspace(0,max_time,rate*max_time)\n",
    "    signal = np.sin(2*np.pi*f1*times) + np.sin(2*np.pi*f2*times)\n",
    "    print(f1, f2, abs(f1-f2))\n",
    "    display(Audio(data=signal, rate=rate))\n",
    "    return signal"
   ]
  },
  {
   "cell_type": "code",
   "execution_count": null,
   "metadata": {
    "collapsed": false
   },
   "outputs": [],
   "source": [
    "v = interactive(beat_freq, f1=(200.0,300.0), f2=(200.0,300.0))\n",
    "display(v)"
   ]
  },
  {
   "cell_type": "code",
   "execution_count": null,
   "metadata": {
    "collapsed": false
   },
   "outputs": [],
   "source": [
    "v.kwargs"
   ]
  },
  {
   "cell_type": "code",
   "execution_count": null,
   "metadata": {
    "collapsed": false
   },
   "outputs": [],
   "source": [
    "f1, f2 = v.children\n",
    "f1.value = 255\n",
    "f2.value = 260\n",
    "plt.plot(v.result[0:6000])"
   ]
  },
  {
   "cell_type": "code",
   "execution_count": null,
   "metadata": {
    "collapsed": false
   },
   "outputs": [],
   "source": [
    "'''\n",
    "Make a colorbar as a separate figure.\n",
    "'''\n",
    "\n",
    "from matplotlib import pyplot\n",
    "import matplotlib as mpl\n",
    "\n",
    "# Make a figure and axes with dimensions as desired.\n",
    "fig = pyplot.figure(figsize=(8,3))\n",
    "ax1 = fig.add_axes([0.05, 0.80, 0.9, 0.15])\n",
    "ax2 = fig.add_axes([0.05, 0.475, 0.9, 0.15])\n",
    "ax3 = fig.add_axes([0.05, 0.15, 0.9, 0.15])\n",
    "\n",
    "# Set the colormap and norm to correspond to the data for which\n",
    "# the colorbar will be used.\n",
    "cmap = mpl.cm.cool\n",
    "norm = mpl.colors.Normalize(vmin=5, vmax=10)\n",
    "\n",
    "# ColorbarBase derives from ScalarMappable and puts a colorbar\n",
    "# in a specified axes, so it has everything needed for a\n",
    "# standalone colorbar.  There are many more kwargs, but the\n",
    "# following gives a basic continuous colorbar with ticks\n",
    "# and labels.\n",
    "cb1 = mpl.colorbar.ColorbarBase(ax1, cmap=cmap,\n",
    "                                   norm=norm,\n",
    "                                   orientation='horizontal')\n",
    "cb1.set_label('Some Units')\n",
    "\n",
    "# The second example illustrates the use of a ListedColormap, a\n",
    "# BoundaryNorm, and extended ends to show the \"over\" and \"under\"\n",
    "# value colors.\n",
    "cmap = mpl.colors.ListedColormap(['r', 'g', 'b', 'c'])\n",
    "cmap.set_over('0.25')\n",
    "cmap.set_under('0.75')\n",
    "\n",
    "# If a ListedColormap is used, the length of the bounds array must be\n",
    "# one greater than the length of the color list.  The bounds must be\n",
    "# monotonically increasing.\n",
    "bounds = [1, 2, 4, 7, 8]\n",
    "norm = mpl.colors.BoundaryNorm(bounds, cmap.N)\n",
    "cb2 = mpl.colorbar.ColorbarBase(ax2, cmap=cmap,\n",
    "                                     norm=norm,\n",
    "                                     # to use 'extend', you must\n",
    "                                     # specify two extra boundaries:\n",
    "                                     boundaries=[0]+bounds+[13],\n",
    "                                     extend='both',\n",
    "                                     ticks=bounds, # optional\n",
    "                                     spacing='proportional',\n",
    "                                     orientation='horizontal')\n",
    "cb2.set_label('Discrete intervals, some other units')\n",
    "\n",
    "# The third example illustrates the use of custom length colorbar\n",
    "# extensions, used on a colorbar with discrete intervals.\n",
    "cmap = mpl.colors.ListedColormap([[0., .4, 1.], [0., .8, 1.],\n",
    "    [1., .8, 0.], [1., .4, 0.]])\n",
    "cmap.set_over((1., 0., 0.))\n",
    "cmap.set_under((0., 0., 1.))\n",
    "\n",
    "bounds = [-1., -.5, 0., .5, 1.]\n",
    "norm = mpl.colors.BoundaryNorm(bounds, cmap.N)\n",
    "cb3 = mpl.colorbar.ColorbarBase(ax3, cmap=cmap,\n",
    "                                     norm=norm,\n",
    "                                     boundaries=[-10]+bounds+[10],\n",
    "                                     extend='both',\n",
    "                                     # Make the length of each extension\n",
    "                                     # the same as the length of the\n",
    "                                     # interior colors:\n",
    "                                     extendfrac='auto',\n",
    "                                     ticks=bounds,\n",
    "                                     spacing='uniform',\n",
    "                                     orientation='horizontal')\n",
    "cb3.set_label('Custom extension lengths, some other units')\n",
    "\n",
    "pyplot.show()"
   ]
  },
  {
   "cell_type": "code",
   "execution_count": null,
   "metadata": {
    "collapsed": false
   },
   "outputs": [],
   "source": [
    "\"\"\"\n",
    "Show how to make date plots in matplotlib using date tick locators and\n",
    "formatters.  See major_minor_demo1.py for more information on\n",
    "controlling major and minor ticks\n",
    "\n",
    "All matplotlib date plotting is done by converting date instances into\n",
    "days since the 0001-01-01 UTC.  The conversion, tick locating and\n",
    "formatting is done behind the scenes so this is most transparent to\n",
    "you.  The dates module provides several converter functions date2num\n",
    "and num2date\n",
    "\n",
    "\"\"\"\n",
    "import datetime\n",
    "import numpy as np\n",
    "import matplotlib.pyplot as plt\n",
    "import matplotlib.dates as mdates\n",
    "import matplotlib.cbook as cbook\n",
    "\n",
    "%matplotlib inline\n",
    "\n",
    "years    = mdates.YearLocator()   # every year\n",
    "months   = mdates.MonthLocator()  # every month\n",
    "yearsFmt = mdates.DateFormatter('%Y')\n",
    "\n",
    "# load a numpy record array from yahoo csv data with fields date,\n",
    "# open, close, volume, adj_close from the mpl-data/example directory.\n",
    "# The record array stores python datetime.date as an object array in\n",
    "# the date column\n",
    "datafile = cbook.get_sample_data('goog.npy')\n",
    "r = np.load(datafile).view(np.recarray)\n",
    "\n",
    "fig, ax = plt.subplots()\n",
    "ax.plot(r.date, r.adj_close)\n",
    "\n",
    "\n",
    "# format the ticks\n",
    "ax.xaxis.set_major_locator(years)\n",
    "ax.xaxis.set_major_formatter(yearsFmt)\n",
    "ax.xaxis.set_minor_locator(months)\n",
    "\n",
    "datemin = datetime.date(r.date.min().year, 1, 1)\n",
    "datemax = datetime.date(r.date.max().year+1, 1, 1)\n",
    "ax.set_xlim(datemin, datemax)\n",
    "\n",
    "# format the coords message box\n",
    "def price(x): return '$%1.2f'%x\n",
    "ax.format_xdata = mdates.DateFormatter('%Y-%m-%d')\n",
    "ax.format_ydata = price\n",
    "ax.grid(True)\n",
    "\n",
    "# rotates and right aligns the x labels, and moves the bottom of the\n",
    "# axes up to make room for them\n",
    "fig.autofmt_xdate()\n",
    "\n",
    "plt.show()"
   ]
  },
  {
   "cell_type": "code",
   "execution_count": null,
   "metadata": {
    "collapsed": false
   },
   "outputs": [],
   "source": [
    "'''\n",
    "Demo to show use of the engineering Formatter.\n",
    "'''\n",
    "\n",
    "import matplotlib.pyplot as plt\n",
    "import numpy as np\n",
    "\n",
    "%matplotlib inline\n",
    "\n",
    "from matplotlib.ticker import EngFormatter\n",
    "\n",
    "fig, ax = plt.subplots()\n",
    "ax.set_xscale('log')\n",
    "formatter = EngFormatter(unit='Hz', places=1)\n",
    "ax.xaxis.set_major_formatter(formatter)\n",
    "\n",
    "xs = np.logspace(1, 9, 100)\n",
    "ys = (0.8 + 0.4 * np.random.uniform(size=100)) * np.log10(xs)**2\n",
    "ax.plot(xs, ys)\n",
    "\n",
    "plt.show()"
   ]
  },
  {
   "cell_type": "code",
   "execution_count": null,
   "metadata": {
    "collapsed": false
   },
   "outputs": [],
   "source": [
    "\"\"\"\n",
    "Show how to modify the coordinate formatter to report the image \"z\"\n",
    "value of the nearest pixel given x and y\n",
    "\"\"\"\n",
    "import numpy as np\n",
    "import matplotlib.pyplot as plt\n",
    "import matplotlib.cm as cm\n",
    "\n",
    "X = 10*np.random.rand(5,3)\n",
    "\n",
    "fig, ax = plt.subplots()\n",
    "ax.imshow(X, cmap=cm.jet, interpolation='nearest')\n",
    "\n",
    "numrows, numcols = X.shape\n",
    "def format_coord(x, y):\n",
    "    col = int(x+0.5)\n",
    "    row = int(y+0.5)\n",
    "    if col>=0 and col<numcols and row>=0 and row<numrows:\n",
    "        z = X[row,col]\n",
    "        return 'x=%1.4f, y=%1.4f, z=%1.4f'%(x, y, z)\n",
    "    else:\n",
    "        return 'x=%1.4f, y=%1.4f'%(x, y)\n",
    "\n",
    "ax.format_coord = format_coord\n",
    "plt.show()"
   ]
  },
  {
   "cell_type": "code",
   "execution_count": null,
   "metadata": {
    "collapsed": false
   },
   "outputs": [],
   "source": [
    "\"\"\"\n",
    "Thanks to Tony Yu <tsyu80@gmail.com> for the logo design\n",
    "\"\"\"\n",
    "\n",
    "import numpy as np\n",
    "import matplotlib as mpl\n",
    "import matplotlib.pyplot as plt\n",
    "import matplotlib.cm as cm\n",
    "\n",
    "mpl.rcParams['xtick.labelsize'] = 10\n",
    "mpl.rcParams['ytick.labelsize'] = 12\n",
    "mpl.rcParams['axes.edgecolor'] = 'gray'\n",
    "\n",
    "\n",
    "axalpha = 0.05\n",
    "#figcolor = '#EFEFEF'\n",
    "figcolor = 'white'\n",
    "dpi = 80\n",
    "fig = plt.figure(figsize=(6, 1.1),dpi=dpi)\n",
    "fig.figurePatch.set_edgecolor(figcolor)\n",
    "fig.figurePatch.set_facecolor(figcolor)\n",
    "\n",
    "\n",
    "def add_math_background():\n",
    "    ax = fig.add_axes([0., 0., 1., 1.])\n",
    "\n",
    "    text = []\n",
    "    text.append((r\"$W^{3\\beta}_{\\delta_1 \\rho_1 \\sigma_2} = U^{3\\beta}_{\\delta_1 \\rho_1} + \\frac{1}{8 \\pi 2} \\int^{\\alpha_2}_{\\alpha_2} d \\alpha^\\prime_2 \\left[\\frac{ U^{2\\beta}_{\\delta_1 \\rho_1} - \\alpha^\\prime_2U^{1\\beta}_{\\rho_1 \\sigma_2} }{U^{0\\beta}_{\\rho_1 \\sigma_2}}\\right]$\", (0.7, 0.2), 20))\n",
    "    text.append((r\"$\\frac{d\\rho}{d t} + \\rho \\vec{v}\\cdot\\nabla\\vec{v} = -\\nabla p + \\mu\\nabla^2 \\vec{v} + \\rho \\vec{g}$\",\n",
    "                (0.35, 0.9), 20))\n",
    "    text.append((r\"$\\int_{-\\infty}^\\infty e^{-x^2}dx=\\sqrt{\\pi}$\",\n",
    "                (0.15, 0.3), 25))\n",
    "    #text.append((r\"$E = mc^2 = \\sqrt{{m_0}^2c^4 + p^2c^2}$\",\n",
    "    #            (0.7, 0.42), 30))\n",
    "    text.append((r\"$F_G = G\\frac{m_1m_2}{r^2}$\",\n",
    "                (0.85, 0.7), 30))\n",
    "    for eq, (x, y), size in text:\n",
    "        ax.text(x, y, eq, ha='center', va='center', color=\"#11557c\", alpha=0.25,\n",
    "                transform=ax.transAxes, fontsize=size)\n",
    "    ax.set_axis_off()\n",
    "    return ax\n",
    "\n",
    "def add_matplotlib_text(ax):\n",
    "    ax.text(0.95, 0.5, 'matplotlib', color='#11557c', fontsize=65,\n",
    "               ha='right', va='center', alpha=1.0, transform=ax.transAxes)\n",
    "\n",
    "def add_polar_bar():\n",
    "    ax = fig.add_axes([0.025, 0.075, 0.2, 0.85], polar=True)\n",
    "\n",
    "\n",
    "    ax.axesPatch.set_alpha(axalpha)\n",
    "    ax.set_axisbelow(True)\n",
    "    N = 7\n",
    "    arc = 2. * np.pi\n",
    "    theta = np.arange(0.0, arc, arc/N)\n",
    "    radii = 10 * np.array([0.2, 0.6, 0.8, 0.7, 0.4, 0.5, 0.8])\n",
    "    width = np.pi / 4 * np.array([0.4, 0.4, 0.6, 0.8, 0.2, 0.5, 0.3])\n",
    "    bars = ax.bar(theta, radii, width=width, bottom=0.0)\n",
    "    for r, bar in zip(radii, bars):\n",
    "        bar.set_facecolor(cm.jet(r/10.))\n",
    "        bar.set_alpha(0.6)\n",
    "\n",
    "    for label in ax.get_xticklabels() + ax.get_yticklabels():\n",
    "        label.set_visible(False)\n",
    "\n",
    "    for line in ax.get_ygridlines() + ax.get_xgridlines():\n",
    "        line.set_lw(0.8)\n",
    "        line.set_alpha(0.9)\n",
    "        line.set_ls('-')\n",
    "        line.set_color('0.5')\n",
    "\n",
    "    ax.set_yticks(np.arange(1, 9, 2))\n",
    "    ax.set_rmax(9)\n",
    "\n",
    "if __name__ == '__main__':\n",
    "    main_axes = add_math_background()\n",
    "    add_polar_bar()\n",
    "    add_matplotlib_text(main_axes)\n",
    "    plt.show()"
   ]
  },
  {
   "cell_type": "code",
   "execution_count": null,
   "metadata": {
    "collapsed": false
   },
   "outputs": [],
   "source": [
    "import matplotlib.path as mpath\n",
    "import matplotlib.patches as mpatches\n",
    "import matplotlib.pyplot as plt\n",
    "\n",
    "Path = mpath.Path\n",
    "\n",
    "fig, ax = plt.subplots()\n",
    "pp1 = mpatches.PathPatch(\n",
    "    Path([(0, 0), (1, 0), (1, 1), (0, 0)],\n",
    "         [Path.MOVETO, Path.CURVE3, Path.CURVE3, Path.CLOSEPOLY]),\n",
    "    fc=\"none\", transform=ax.transData)\n",
    "\n",
    "ax.add_patch(pp1)\n",
    "ax.plot([0.75], [0.25], \"ro\")\n",
    "ax.set_title('The red point should be on the path')\n",
    "\n",
    "plt.show()"
   ]
  },
  {
   "cell_type": "code",
   "execution_count": null,
   "metadata": {
    "collapsed": false
   },
   "outputs": [],
   "source": [
    "\"\"\"\n",
    "Illustrate some helper functions for shading regions where a logical\n",
    "mask is True\n",
    "\n",
    "See :meth:`matplotlib.collections.BrokenBarHCollection.span_where`\n",
    "\"\"\"\n",
    "import numpy as np\n",
    "import matplotlib.pyplot as plt\n",
    "import matplotlib.collections as collections\n",
    "\n",
    "\n",
    "t = np.arange(0.0, 2, 0.01)\n",
    "s1 = np.sin(2*np.pi*t)\n",
    "s2 = 1.2*np.sin(4*np.pi*t)\n",
    "\n",
    "\n",
    "fig, ax = plt.subplots()\n",
    "ax.set_title('using span_where')\n",
    "ax.plot(t, s1, color='black')\n",
    "ax.axhline(0, color='black', lw=2)\n",
    "\n",
    "collection = collections.BrokenBarHCollection.span_where(\n",
    "       t, ymin=0, ymax=1, where=s1>0, facecolor='green', alpha=0.5)\n",
    "ax.add_collection(collection)\n",
    "\n",
    "collection = collections.BrokenBarHCollection.span_where(\n",
    "       t, ymin=-1, ymax=0, where=s1<0, facecolor='red', alpha=0.5)\n",
    "ax.add_collection(collection)\n",
    "\n",
    "\n",
    "\n",
    "plt.show()"
   ]
  },
  {
   "cell_type": "code",
   "execution_count": null,
   "metadata": {
    "collapsed": false
   },
   "outputs": [],
   "source": [
    "\"\"\"\n",
    "Use a Text as a watermark\n",
    "\"\"\"\n",
    "import numpy as np\n",
    "#import matplotlib\n",
    "#matplotlib.use('Agg')\n",
    "\n",
    "import matplotlib.pyplot as plt\n",
    "\n",
    "fig, ax = plt.subplots()\n",
    "ax.plot(np.random.rand(20), '-o', ms=20, lw=2, alpha=0.7, mfc='orange')\n",
    "ax.grid()\n",
    "\n",
    "# position bottom right\n",
    "fig.text(0.95, 0.05, 'Property of MPL',\n",
    "         fontsize=50, color='gray',\n",
    "         ha='right', va='bottom', alpha=0.5)\n",
    "\n",
    "plt.show()"
   ]
  },
  {
   "cell_type": "code",
   "execution_count": null,
   "metadata": {
    "collapsed": false
   },
   "outputs": [],
   "source": [
    "# a bar plot with errorbars\n",
    "import numpy as np\n",
    "import matplotlib.pyplot as plt\n",
    "\n",
    "N = 5\n",
    "menMeans = (20, 35, 30, 35, 27)\n",
    "menStd =   (2, 3, 4, 1, 2)\n",
    "\n",
    "ind = np.arange(N)  # the x locations for the groups\n",
    "width = 0.35       # the width of the bars\n",
    "\n",
    "fig, ax = plt.subplots()\n",
    "rects1 = ax.bar(ind, menMeans, width, color='r', yerr=menStd)\n",
    "\n",
    "womenMeans = (25, 32, 34, 20, 25)\n",
    "womenStd =   (3, 5, 2, 3, 3)\n",
    "rects2 = ax.bar(ind+width, womenMeans, width, color='y', yerr=womenStd)\n",
    "\n",
    "# add some text for labels, title and axes ticks\n",
    "ax.set_ylabel('Scores')\n",
    "ax.set_title('Scores by group and gender')\n",
    "ax.set_xticks(ind+width)\n",
    "ax.set_xticklabels( ('G1', 'G2', 'G3', 'G4', 'G5') )\n",
    "\n",
    "ax.legend( (rects1[0], rects2[0]), ('Men', 'Women') )\n",
    "\n",
    "def autolabel(rects):\n",
    "    # attach some text labels\n",
    "    for rect in rects:\n",
    "        height = rect.get_height()\n",
    "        ax.text(rect.get_x()+rect.get_width()/2., 1.05*height, '%d'%int(height),\n",
    "                ha='center', va='bottom')\n",
    "\n",
    "autolabel(rects1)\n",
    "autolabel(rects2)\n",
    "\n",
    "plt.show()"
   ]
  },
  {
   "cell_type": "code",
   "execution_count": null,
   "metadata": {
    "collapsed": true
   },
   "outputs": [],
   "source": []
  }
 ],
 "metadata": {
  "kernelspec": {
   "display_name": "Python 2",
   "language": "python",
   "name": "python2"
  },
  "language_info": {
   "codemirror_mode": {
    "name": "ipython",
    "version": 2
   },
   "file_extension": ".py",
   "mimetype": "text/x-python",
   "name": "python",
   "nbconvert_exporter": "python",
   "pygments_lexer": "ipython2",
   "version": "2.7.10"
  }
 },
 "nbformat": 4,
 "nbformat_minor": 0
}
